{
  "nbformat": 4,
  "nbformat_minor": 0,
  "metadata": {
    "colab": {
      "provenance": [],
      "authorship_tag": "ABX9TyOu09HAOJ0Jqh4vH/d7LLlm",
      "include_colab_link": true
    },
    "kernelspec": {
      "name": "python3",
      "display_name": "Python 3"
    },
    "language_info": {
      "name": "python"
    }
  },
  "cells": [
    {
      "cell_type": "markdown",
      "metadata": {
        "id": "view-in-github",
        "colab_type": "text"
      },
      "source": [
        "<a href=\"https://colab.research.google.com/github/reema-dass26/Electricity_utilization_data_management/blob/main/mqtt_data_prep.ipynb\" target=\"_parent\"><img src=\"https://colab.research.google.com/assets/colab-badge.svg\" alt=\"Open In Colab\"/></a>"
      ]
    },
    {
      "cell_type": "code",
      "source": [
        "!pip install openpyxl\n"
      ],
      "metadata": {
        "colab": {
          "base_uri": "https://localhost:8080/"
        },
        "id": "o8R7HHzyPTSH",
        "outputId": "004a5c95-4e3c-4991-fdb5-457e88f982df"
      },
      "execution_count": 1,
      "outputs": [
        {
          "output_type": "stream",
          "name": "stdout",
          "text": [
            "Requirement already satisfied: openpyxl in /usr/local/lib/python3.11/dist-packages (3.1.5)\n",
            "Requirement already satisfied: et-xmlfile in /usr/local/lib/python3.11/dist-packages (from openpyxl) (2.0.0)\n"
          ]
        }
      ]
    },
    {
      "cell_type": "code",
      "source": [
        "import csv\n",
        "import json\n",
        "import openpyxl\n",
        "json_file_path = 'output_file.json'\n",
        "import pandas as pd\n",
        "\n",
        "xlsx_file_path = '/content/sample_data/Report_20241211_20241214_202501101235.xlsx'\n",
        "df = pd.read_excel(xlsx_file_path, header=None)\n",
        "\n",
        "print(df.head(20))\n",
        "\n",
        "\n",
        "df_cleaned = df.iloc[17:].reset_index(drop=True)\n",
        "\n",
        "# Step 2: Extract only the first two columns\n",
        "df_cleaned = df_cleaned[[0, 1]]\n",
        "\n",
        "# Step 3: Rename the columns for clarity (optional)\n",
        "df_cleaned.columns = ['Timestamp', 'ConsumptionKWH']\n",
        "\n",
        "\n",
        "# Step 5: Save the cleaned data to a CSV or JSON file\n",
        "df_cleaned.to_csv('cleaned_data.csv', index=False)  # Save to CSV\n",
        "df_cleaned.to_json('cleaned_data.json', orient='records', lines=True)  # Save to JSON\n",
        "\n",
        "# Print cleaned data\n",
        "print(df_cleaned.head(20))\n"
      ],
      "metadata": {
        "id": "gYY4sj32PTEe"
      },
      "execution_count": null,
      "outputs": []
    },
    {
      "cell_type": "code",
      "source": [],
      "metadata": {
        "id": "bYa8bAPEPTVP"
      },
      "execution_count": null,
      "outputs": []
    },
    {
      "cell_type": "code",
      "source": [
        "import pandas as pd\n",
        "import uuid\n",
        "from datetime import datetime\n",
        "\n",
        "# Load the Excel file without headers\n",
        "xlsx_file_path = '/content/sample_data/Report_20241211_20241214_202501101235.xlsx'\n",
        "df = pd.read_excel(xlsx_file_path, header=None)\n",
        "\n",
        "# Display the first few rows to understand the structure (optional)\n",
        "print(df.head(20))\n",
        "\n",
        "# Step 1: Find the index of the row where the 'Spaltensumme' starts (or another unique marker)\n",
        "start_row_index = df[df[0] == 'Spaltensumme / minimale Qualität'].index[0]\n",
        "print('###################################################################################')\n",
        "print(start_row_index)\n",
        "# Step 2: Extract rows starting from the next row after the marker, and reset index\n",
        "df_cleaned = df.iloc[start_row_index + 1:].reset_index(drop=True)\n",
        "\n",
        "# Step 3: Select only the first two columns (timestamps and corresponding values)\n",
        "df_cleaned = df_cleaned[[0, 1]]\n",
        "\n",
        "# Step 4: Rename the columns for clarity\n",
        "df_cleaned.columns = ['timestampUtcEpochSecs', 'consumptionKwh']\n",
        "print('!!!!!!!!!!!!!!!!!!!!!!!!!!!!!!!!!!!!!!!!!!!!!!!!!!!!!!!!!!!!!!!!!')\n",
        "print(type(df_cleaned ['timestampUtcEpochSecs']))\n",
        "\n",
        "# df_cleaned['Value'] = pd.to_numeric(df_cleaned['Value'], errors='coerce')\n",
        "\n",
        "# Step 2: Calculate the sum of the 'Value' column\n",
        "total_sum = df_cleaned['consumptionKwh'].sum()\n",
        "\n",
        "# Step 3: Display the result\n",
        "print(f\"Sum of the 'consumptionKwh' column: {total_sum}\")\n",
        "# Step 6: Save to CSV or JSON\n",
        "\n",
        "\n",
        "myuuid = uuid.uuid4()\n",
        "\n",
        "print('Your UUID is: ' + str(myuuid))\n",
        "\n",
        "# cleaned_values = df_cleaned[['timestampUtcEpochSecs', 'consumptionKwh']].to_dict('records')\n",
        "\n",
        "\n",
        "\n",
        "\n",
        "# Cleaned values (convert timestampUtcEpochSecs to a list of integers)\n",
        "cleaned_values = df_cleaned[['timestampUtcEpochSecs', 'consumptionKwh']].apply(lambda row: {\n",
        "    'timestampUtcEpochSecs': int(row['timestampUtcEpochSecs'].timestamp()),  # Convert datetime to Unix timestamp\n",
        "    'consumptionKwh': row['consumptionKwh']\n",
        "}, axis=1).tolist()\n",
        "\n",
        "\n",
        "new_data = {\n",
        "  \t'deviceId' : str(myuuid),\n",
        "    'dataFrequencyMins' :15,\n",
        "    'date' :  str(datetime.now().strftime('%Y-%m-%d')),\n",
        "    \"electricReadings\": cleaned_values\n",
        "}\n",
        "\n",
        "# Define the output file path\n",
        "output_file_path = 'pre_processed_data.json'\n",
        "\n",
        "# Step 3: Write the new data into a new JSON file\n",
        "with open(output_file_path, 'w') as f:\n",
        "    json.dump(new_data, f, indent=4)\n",
        "\n",
        "print(f\"New JSON file created: {output_file_path}\")\n",
        "\n"
      ],
      "metadata": {
        "colab": {
          "base_uri": "https://localhost:8080/"
        },
        "id": "P5bJmqoBPTYX",
        "outputId": "ebdaf378-f1f2-4fd7-b9f3-f37b42ecc7f4"
      },
      "execution_count": 28,
      "outputs": [
        {
          "output_type": "stream",
          "name": "stdout",
          "text": [
            "                                   0  \\\n",
            "0                                NaN   \n",
            "1                    MeteringpointID   \n",
            "2                        CommunityID   \n",
            "3                               Name   \n",
            "4                   Energy direction   \n",
            "5                Report Filter start   \n",
            "6                  Report Filter end   \n",
            "7                  Data Period start   \n",
            "8                    Data Period end   \n",
            "9        Metering Point active start   \n",
            "10         Metering Point active end   \n",
            "11                    MeteringReason   \n",
            "12                 Metering Interval   \n",
            "13      Number of Metering Intervals   \n",
            "14                         Metercode   \n",
            "15                 Data Completeness   \n",
            "16  Spaltensumme / minimale Qualität   \n",
            "17               2024-12-11 00:00:00   \n",
            "18               2024-12-11 00:15:00   \n",
            "19               2024-12-11 00:30:00   \n",
            "\n",
            "                                                    1    2  \\\n",
            "0                                                 NaN  NaN   \n",
            "1                   AT0090000000000000000X201X011800E   MM   \n",
            "2                                                 NaN  NaN   \n",
            "3                                     Aichmaier Heimo  NaN   \n",
            "4                                          GENERATION  NaN   \n",
            "5                                 2024-12-11 00:00:00  NaN   \n",
            "6                                 2024-12-15 00:00:00  NaN   \n",
            "7                                 2024-12-11 00:00:00  NaN   \n",
            "8                                 2024-12-15 00:00:00  NaN   \n",
            "9                                 2024-12-11 00:00:00  NaN   \n",
            "10                                2024-12-15 00:00:00  NaN   \n",
            "11                               SM Datenübermittlung  NaN   \n",
            "12                              QH (viertelstündlich)  NaN   \n",
            "13                                                NaN  NaN   \n",
            "14  Gesamt/Überschusserzeugung, Gemeinschaftsübers...  NaN   \n",
            "15                                           COMPLETE  NaN   \n",
            "16                                              0.082   L1   \n",
            "17                                                  0   L1   \n",
            "18                                                  0   L1   \n",
            "19                                                  0   L1   \n",
            "\n",
            "                                                    3    4  \n",
            "0                                               TOTAL  NaN  \n",
            "1                   AT0090000000000000000X201X011800E   MM  \n",
            "2                                                 NaN  NaN  \n",
            "3                                                 NaN  NaN  \n",
            "4                                          GENERATION  NaN  \n",
            "5                                 2024-12-11 00:00:00  NaN  \n",
            "6                                 2024-12-15 00:00:00  NaN  \n",
            "7                                                 NaN  NaN  \n",
            "8                                                 NaN  NaN  \n",
            "9                                                 NaN  NaN  \n",
            "10                                                NaN  NaN  \n",
            "11                                                NaN  NaN  \n",
            "12                                                NaN  NaN  \n",
            "13                                                NaN  NaN  \n",
            "14  Gesamt/Überschusserzeugung, Gemeinschaftsübers...  NaN  \n",
            "15                                           COMPLETE  NaN  \n",
            "16                                              0.082   L1  \n",
            "17                                                  0   L1  \n",
            "18                                                  0   L1  \n",
            "19                                                  0   L1  \n",
            "###################################################################################\n",
            "16\n",
            "!!!!!!!!!!!!!!!!!!!!!!!!!!!!!!!!!!!!!!!!!!!!!!!!!!!!!!!!!!!!!!!!!\n",
            "<class 'pandas.core.series.Series'>\n",
            "Sum of the 'consumptionKwh' column: 0.08200000000000003\n",
            "Your UUID is: bee64031-4ad0-4cee-8c14-858d1f5039be\n",
            "New JSON file created: pre_processed_data.json\n"
          ]
        },
        {
          "output_type": "stream",
          "name": "stderr",
          "text": [
            "/usr/local/lib/python3.11/dist-packages/openpyxl/styles/stylesheet.py:237: UserWarning: Workbook contains no default style, apply openpyxl's default\n",
            "  warn(\"Workbook contains no default style, apply openpyxl's default\")\n"
          ]
        }
      ]
    },
    {
      "cell_type": "code",
      "source": [],
      "metadata": {
        "id": "4zibOu7TjLmE"
      },
      "execution_count": null,
      "outputs": []
    }
  ]
}
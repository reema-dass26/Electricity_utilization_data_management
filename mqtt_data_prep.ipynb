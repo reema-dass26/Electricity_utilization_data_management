{
  "nbformat": 4,
  "nbformat_minor": 0,
  "metadata": {
    "colab": {
      "provenance": [],
      "mount_file_id": "1U56nC3nfuNfv_yXjgbJVWqTeU_in9GS-",
      "authorship_tag": "ABX9TyM9JQwFT73z1j9b2V8LrQPS",
      "include_colab_link": true
    },
    "kernelspec": {
      "name": "python3",
      "display_name": "Python 3"
    },
    "language_info": {
      "name": "python"
    }
  },
  "cells": [
    {
      "cell_type": "markdown",
      "metadata": {
        "id": "view-in-github",
        "colab_type": "text"
      },
      "source": [
        "<a href=\"https://colab.research.google.com/github/reema-dass26/Electricity_utilization_data_management/blob/main/mqtt_data_prep.ipynb\" target=\"_parent\"><img src=\"https://colab.research.google.com/assets/colab-badge.svg\" alt=\"Open In Colab\"/></a>"
      ]
    },
    {
      "cell_type": "code",
      "source": [
        "!pip install openpyxl\n"
      ],
      "metadata": {
        "colab": {
          "base_uri": "https://localhost:8080/"
        },
        "id": "o8R7HHzyPTSH",
        "outputId": "004a5c95-4e3c-4991-fdb5-457e88f982df"
      },
      "execution_count": null,
      "outputs": [
        {
          "output_type": "stream",
          "name": "stdout",
          "text": [
            "Requirement already satisfied: openpyxl in /usr/local/lib/python3.11/dist-packages (3.1.5)\n",
            "Requirement already satisfied: et-xmlfile in /usr/local/lib/python3.11/dist-packages (from openpyxl) (2.0.0)\n"
          ]
        }
      ]
    },
    {
      "cell_type": "code",
      "source": [
        "import pandas as pd\n",
        "import uuid\n",
        "from datetime import datetime\n",
        "import argparse\n",
        "# Setup argparse to accept command line arguments\n",
        "file_path = input(\"Please enter the path to your Excel file: \")\n",
        "\n",
        "# Load the Excel file without headers\n",
        "try:\n",
        "    df = pd.read_excel(file_path, header=None)\n",
        "    print(\"Excel file loaded successfully.\")\n",
        "except Exception as e:\n",
        "    print(f\"Error loading the Excel file: {e}\")\n",
        "    exit()\n",
        "\n",
        "interval_of_logging=15\n",
        "# Step 1: Find the index of the row where the 'Spaltensumme' starts\n",
        "start_row_index = df[df[0] == 'Spaltensumme / minimale Qualität'].index[0]\n",
        "\n",
        "# Step 2: Extract rows starting from the next row after the marker, and reset index\n",
        "df_cleaned = df.iloc[start_row_index + 1:].reset_index(drop=True)\n",
        "\n",
        "# Step 3: Select only the first two columns (timestamps and corresponding values)\n",
        "df_cleaned = df_cleaned[[0, 1]]\n",
        "\n",
        "# Step 4: Rename the columns as per voltaware.\n",
        "df_cleaned.columns = ['timestampUtcEpochSecs', 'consumptionKwh']\n",
        "print(type(df_cleaned ['timestampUtcEpochSecs']))\n",
        "#validating the total consumption( for internal testing)\n",
        "total_sum = df_cleaned['consumptionKwh'].sum()\n",
        "print(f\"Sum of the 'consumptionKwh' column: {total_sum}\")\n",
        "\n",
        "#uuid generation for device id\n",
        "myuuid = uuid.uuid4()\n",
        "print('Your UUID is: ' + str(myuuid))\n",
        "\n",
        "# Cleaned values (convert timestampUtcEpochSecs to a list of integers) and convert the structure to list of objects\n",
        "cleaned_values = df_cleaned[['timestampUtcEpochSecs', 'consumptionKwh']].apply(lambda row: {\n",
        "    'timestampUtcEpochSecs': int(row['timestampUtcEpochSecs'].timestamp()),  # Convert Unix timestamp to integer\n",
        "    'consumptionKwh': row['consumptionKwh']\n",
        "}, axis=1).tolist()\n",
        "\n",
        "\n",
        "new_data = {\n",
        "  \t'deviceId' : str(myuuid),\n",
        "    'dataFrequencyMins' :interval_of_logging,\n",
        "    'date' :  str(datetime.now().strftime('%Y-%m-%d')),\n",
        "    \"electricReadings\": cleaned_values\n",
        "}\n",
        "\n",
        "# Define the output file path\n",
        "output_file_path = str(myuuid)\n",
        "\n",
        "with open(output_file_path, 'w') as f:\n",
        "    json.dump(new_data, f, indent=4)\n",
        "\n",
        "print(f\"New JSON file created: {output_file_path}\")\n",
        "\n"
      ],
      "metadata": {
        "colab": {
          "base_uri": "https://localhost:8080/"
        },
        "id": "P5bJmqoBPTYX",
        "outputId": "6f8d2ad0-1475-4e27-bb3b-fe33b049e6ec"
      },
      "execution_count": null,
      "outputs": [
        {
          "output_type": "stream",
          "name": "stdout",
          "text": [
            "Please enter the path to your Excel file: /content/sample_data/Report_20241211_20241214_202501101235.xlsx\n",
            "Excel file loaded successfully.\n",
            "<class 'pandas.core.series.Series'>\n",
            "Sum of the 'consumptionKwh' column: 0.08200000000000003\n",
            "Your UUID is: e81874d3-04a5-4c6b-9a86-0410accb4af6\n",
            "New JSON file created: e81874d3-04a5-4c6b-9a86-0410accb4af6\n"
          ]
        },
        {
          "output_type": "stream",
          "name": "stderr",
          "text": [
            "/usr/local/lib/python3.11/dist-packages/openpyxl/styles/stylesheet.py:237: UserWarning: Workbook contains no default style, apply openpyxl's default\n",
            "  warn(\"Workbook contains no default style, apply openpyxl's default\")\n"
          ]
        }
      ]
    },
    {
      "cell_type": "markdown",
      "source": [
        "# New section"
      ],
      "metadata": {
        "id": "qKFI-p-hmmte"
      }
    }
  ]
}